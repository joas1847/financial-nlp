{
 "cells": [
  {
   "cell_type": "code",
   "execution_count": 2,
   "id": "0b787420",
   "metadata": {},
   "outputs": [],
   "source": [
    "import os\n",
    "from dotenv import load_dotenv\n",
    "\n",
    "from pathlib import Path\n",
    "import sys\n",
    "\n",
    "PATH_PROJECT_ROOT_DIR = Path(os.getcwd()).resolve().parent\n",
    "PATH_SRC_DIR = os.path.join(PATH_PROJECT_ROOT_DIR, \"src/\")\n",
    "\n",
    "sys.path.append(str(PATH_SRC_DIR))"
   ]
  },
  {
   "cell_type": "code",
   "execution_count": 3,
   "id": "142bdc38",
   "metadata": {},
   "outputs": [],
   "source": [
    "from pipeline_scripts.api_twitter_helper import fetch_recent_tweets\n",
    "from pipeline_scripts.nlp_model_helper import sentiment_analysis"
   ]
  },
  {
   "cell_type": "code",
   "execution_count": 12,
   "id": "c0b5fbe0",
   "metadata": {},
   "outputs": [
    {
     "name": "stdout",
     "output_type": "stream",
     "text": [
      "      label     score\n",
      "0  negative  0.535518\n",
      "1  positive  0.647901\n",
      "2  positive  0.845784\n",
      "3   neutral  0.965135\n",
      "4  negative  0.998451\n",
      "5  positive  0.689746\n",
      "6  negative  0.635837\n",
      "7  negative  0.601358\n",
      "8  negative  0.564145\n",
      "9   neutral  0.935072\n"
     ]
    }
   ],
   "source": [
    "print(res)"
   ]
  },
  {
   "cell_type": "code",
   "execution_count": 10,
   "id": "b7ca1eaa",
   "metadata": {},
   "outputs": [],
   "source": [
    "# Safe mode, you can write your token in a .env or specify it directly into the function.\n",
    "\n",
    "BEARER_TOKEN = os.getenv(\"BEARER_TOKEN\") # X API Bearer Token\n",
    "TOKEN_HF = os.getenv(\"TOKEN_HF\") # Hugging Face Token\n",
    "MODEL_NAME = \"StephanAkkerman/FinTwitBERT-sentiment\" \n"
   ]
  },
  {
   "cell_type": "code",
   "execution_count": 11,
   "id": "608c890b",
   "metadata": {},
   "outputs": [
    {
     "name": "stderr",
     "output_type": "stream",
     "text": [
      "Device set to use cpu\n",
      "Asking to truncate to max_length but no maximum length is provided and the model has no predefined maximum length. Default to no truncation.\n"
     ]
    }
   ],
   "source": [
    "financial_tweets = [\n",
    "    \"Stocks rallied after the Fed announced no rate hike.\",\n",
    "    \"Bitcoin hits a new all-time high, investors celebrate.\",\n",
    "    \"Tech earnings beat expectations, sending shares soaring.\",\n",
    "    \"Oil prices drop as global demand slows down.\",\n",
    "    \"Gold remains stable amid market uncertainty.\",\n",
    "    \"Tesla unveils new model, stock surges in after-hours trading.\",\n",
    "    \"Banking sector faces regulatory scrutiny this quarter.\",\n",
    "    \"Inflation fears push bond yields higher.\",\n",
    "    \"Retail sales rebound, boosting consumer confidence.\",\n",
    "    \"Mergers in the pharma industry shake up the market.\"\n",
    "]\n",
    "res = sentiment_analysis(token_hf=TOKEN_HF, model_to_use=MODEL_NAME, data=financial_tweets)"
   ]
  }
 ],
 "metadata": {
  "kernelspec": {
   "display_name": "financial_nlp_env",
   "language": "python",
   "name": "python3"
  },
  "language_info": {
   "codemirror_mode": {
    "name": "ipython",
    "version": 3
   },
   "file_extension": ".py",
   "mimetype": "text/x-python",
   "name": "python",
   "nbconvert_exporter": "python",
   "pygments_lexer": "ipython3",
   "version": "3.11.13"
  }
 },
 "nbformat": 4,
 "nbformat_minor": 5
}
