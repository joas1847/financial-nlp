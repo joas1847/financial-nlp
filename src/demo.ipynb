{
 "cells": [
  {
   "cell_type": "code",
   "execution_count": 1,
   "id": "0b787420",
   "metadata": {},
   "outputs": [],
   "source": [
    "import os\n",
    "from dotenv import load_dotenv\n",
    "\n",
    "from pathlib import Path\n",
    "import sys\n",
    "\n",
    "PATH_PROJECT_ROOT_DIR = Path(os.getcwd()).resolve().parent\n",
    "PATH_SRC_DIR = os.path.join(PATH_PROJECT_ROOT_DIR, \"src/\")\n",
    "\n",
    "sys.path.append(str(PATH_SRC_DIR))"
   ]
  },
  {
   "cell_type": "code",
   "execution_count": 2,
   "id": "142bdc38",
   "metadata": {},
   "outputs": [],
   "source": [
    "from pipeline_scripts.api_twitter_helper import fetch_recent_tweets\n",
    "from pipeline_scripts.nlp_model_helper import sentiment_analysis\n"
   ]
  },
  {
   "cell_type": "code",
   "execution_count": 3,
   "id": "b7ca1eaa",
   "metadata": {},
   "outputs": [],
   "source": [
    "# Safe mode, you can write your token in a .env or specify it directly into the function.\n",
    "load_dotenv()\n",
    "## X API Bearer Token\n",
    "BEARER_TOKEN = os.getenv(\"BEARER_TOKEN\") \n",
    "\n",
    "## Hugging Face Token\n",
    "TOKEN_HF = os.getenv(\"TOKEN_HF\") \n",
    "\n",
    "## Broker (Alpaca) API credentials\n",
    "BROKER_TOKEN = os.getenv(\"BROKER_API_KEY\") \n",
    "BROKER_SECRET = os.getenv(\"BROKER_API_SECRET\")\n",
    "\n",
    "ACCOUNTS = None\n",
    "\n",
    "MODEL_NAME = \"StephanAkkerman/FinTwitBERT-sentiment\" \n",
    "TICKER = \"ETH/USD\"\n",
    "ASSET_NAME =  \"Ethereum\" # If you do not want to search tweets for company ticker name you can specify it here"
   ]
  },
  {
   "cell_type": "code",
   "execution_count": 4,
   "id": "f525f10f",
   "metadata": {},
   "outputs": [
    {
     "name": "stdout",
     "output_type": "stream",
     "text": [
      "Query: Ethereum -is:retweet -is:reply\n",
      "Error fetching tweets: 500 Internal Server Error\n"
     ]
    }
   ],
   "source": [
    "from pipeline_scripts.api_twitter_helper import fetch_recent_tweets\n",
    "\n",
    "input_data = fetch_recent_tweets(bearer_token=BEARER_TOKEN,\n",
    "                                 accounts=ACCOUNTS if ACCOUNTS else None,\n",
    "                                 asset=ASSET_NAME if ASSET_NAME else TICKER,\n",
    "                                 max_results=10)"
   ]
  },
  {
   "cell_type": "code",
   "execution_count": null,
   "id": "608c890b",
   "metadata": {},
   "outputs": [
    {
     "name": "stderr",
     "output_type": "stream",
     "text": [
      "Device set to use cpu\n",
      "Asking to truncate to max_length but no maximum length is provided and the model has no predefined maximum length. Default to no truncation.\n"
     ]
    }
   ],
   "source": [
    "\n",
    "res = sentiment_analysis(token_hf=TOKEN_HF, model_to_use=MODEL_NAME, data=input_data)\n"
   ]
  },
  {
   "cell_type": "code",
   "execution_count": 9,
   "id": "68ece3cf",
   "metadata": {},
   "outputs": [
    {
     "name": "stdout",
     "output_type": "stream",
     "text": [
      "Action: HOLD — Sentiment does not meet buy or sell criteria.\n"
     ]
    },
    {
     "data": {
      "text/plain": [
       "(0.0073517471551895145, 'HOLD')"
      ]
     },
     "execution_count": 9,
     "metadata": {},
     "output_type": "execute_result"
    }
   ],
   "source": [
    "from pipeline_scripts.trading_signal import generate_trading_signal\n",
    "ACTION = generate_trading_signal(df=res, buy_threshold=0.3, sell_threshold=-0.3)\n",
    "ACTION\n"
   ]
  },
  {
   "cell_type": "code",
   "execution_count": null,
   "id": "7098071c",
   "metadata": {},
   "outputs": [],
   "source": [
    "from pipeline_scripts.trader_helper import AlpacaTrader\n",
    "trader = AlpacaTrader(\n",
    "    api_key=BROKER_TOKEN,\n",
    "    secret_key=BROKER_SECRET)\n",
    "print(\"Account ID: \", trader.trading_client.get_account().account_number, \"\\nPortfolio value: \",trader.trading_client.get_account().portfolio_value,\"$\") \n",
    "\n",
    "# trader.trading_client.cancel_orders()\n",
    "\n"
   ]
  },
  {
   "cell_type": "code",
   "execution_count": null,
   "id": "38ae10dc",
   "metadata": {},
   "outputs": [],
   "source": [
    "trader.trading_client.get_clock()['is_open']  # Check if the market is open\n"
   ]
  },
  {
   "cell_type": "code",
   "execution_count": null,
   "id": "62f8f4c3",
   "metadata": {},
   "outputs": [
    {
     "data": {
      "text/plain": [
       "[]"
      ]
     },
     "execution_count": 24,
     "metadata": {},
     "output_type": "execute_result"
    }
   ],
   "source": [
    "trader.execute_action(\n",
    "    symbol=TICKER,\n",
    "    asset_type=\"stock\",\n",
    "    action=ACTION[1],\n",
    "    qty= 1,\n",
    "    threshold_pct=5.0,\n",
    "    timeframe_unit=\"Hour\",\n",
    "    limit=10,\n",
    ")\n",
    "\n",
    "trader.trading_client.get_orders()"
   ]
  }
 ],
 "metadata": {
  "kernelspec": {
   "display_name": "test_good",
   "language": "python",
   "name": "python3"
  },
  "language_info": {
   "codemirror_mode": {
    "name": "ipython",
    "version": 3
   },
   "file_extension": ".py",
   "mimetype": "text/x-python",
   "name": "python",
   "nbconvert_exporter": "python",
   "pygments_lexer": "ipython3",
   "version": "3.11.13"
  }
 },
 "nbformat": 4,
 "nbformat_minor": 5
}
