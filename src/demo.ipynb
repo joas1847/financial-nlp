{
 "cells": [
  {
   "cell_type": "code",
   "execution_count": 1,
   "id": "0b787420",
   "metadata": {},
   "outputs": [],
   "source": [
    "import os\n",
    "from dotenv import load_dotenv\n",
    "\n",
    "from pathlib import Path\n",
    "import sys\n",
    "\n",
    "PATH_PROJECT_ROOT_DIR = Path(os.getcwd()).resolve().parent\n",
    "PATH_SRC_DIR = os.path.join(PATH_PROJECT_ROOT_DIR, \"src/\")\n",
    "\n",
    "sys.path.append(str(PATH_SRC_DIR))"
   ]
  },
  {
   "cell_type": "code",
   "execution_count": 2,
   "id": "142bdc38",
   "metadata": {},
   "outputs": [],
   "source": [
    "from pipeline_scripts.api_twitter_helper import fetch_recent_tweets\n",
    "from pipeline_scripts.nlp_model_helper import sentiment_analysis"
   ]
  },
  {
   "cell_type": "code",
   "execution_count": 1,
   "id": "b7ca1eaa",
   "metadata": {},
   "outputs": [
    {
     "ename": "NameError",
     "evalue": "name 'os' is not defined",
     "output_type": "error",
     "traceback": [
      "\u001b[31m---------------------------------------------------------------------------\u001b[39m",
      "\u001b[31mNameError\u001b[39m                                 Traceback (most recent call last)",
      "\u001b[36mCell\u001b[39m\u001b[36m \u001b[39m\u001b[32mIn[1]\u001b[39m\u001b[32m, line 3\u001b[39m\n\u001b[32m      1\u001b[39m \u001b[38;5;66;03m# Safe mode, you can write your token in a .env or specify it directly into the function.\u001b[39;00m\n\u001b[32m----> \u001b[39m\u001b[32m3\u001b[39m BEARER_TOKEN = \u001b[43mos\u001b[49m.getenv(\u001b[33m\"\u001b[39m\u001b[33mBEARER_TOKEN\u001b[39m\u001b[33m\"\u001b[39m) \u001b[38;5;66;03m# X API Bearer Token\u001b[39;00m\n\u001b[32m      4\u001b[39m TOKEN_HF = os.getenv(\u001b[33m\"\u001b[39m\u001b[33mTOKEN_HF\u001b[39m\u001b[33m\"\u001b[39m) \u001b[38;5;66;03m# Hugging Face Token\u001b[39;00m\n\u001b[32m      5\u001b[39m MODEL_NAME = \u001b[33m\"\u001b[39m\u001b[33mStephanAkkerman/FinTwitBERT-sentiment\u001b[39m\u001b[33m\"\u001b[39m \n",
      "\u001b[31mNameError\u001b[39m: name 'os' is not defined"
     ]
    }
   ],
   "source": [
    "# Safe mode, you can write your token in a .env or specify it directly into the function.\n",
    "\n",
    "BEARER_TOKEN = os.getenv(\"BEARER_TOKEN\") # X API Bearer Token\n",
    "TOKEN_HF = os.getenv(\"TOKEN_HF\") # Hugging Face Token\n",
    "MODEL_NAME = \"StephanAkkerman/FinTwitBERT-sentiment\" \n"
   ]
  },
  {
   "cell_type": "code",
   "execution_count": null,
   "id": "608c890b",
   "metadata": {},
   "outputs": [
    {
     "ename": "OSError",
     "evalue": "Error no file named pytorch_model.bin, model.safetensors, tf_model.h5, model.ckpt.index or flax_model.msgpack found in directory ./nlp_models/best_fintwitbert.",
     "output_type": "error",
     "traceback": [
      "\u001b[31m---------------------------------------------------------------------------\u001b[39m",
      "\u001b[31mOSError\u001b[39m                                   Traceback (most recent call last)",
      "\u001b[36mCell\u001b[39m\u001b[36m \u001b[39m\u001b[32mIn[13]\u001b[39m\u001b[32m, line 24\u001b[39m\n\u001b[32m      1\u001b[39m tweets = [\n\u001b[32m      2\u001b[39m     \u001b[33m\"\u001b[39m\u001b[33mApple\u001b[39m\u001b[33m'\u001b[39m\u001b[33ms earnings report just beat all expectations! 🚀 #stocks\u001b[39m\u001b[33m\"\u001b[39m,\n\u001b[32m      3\u001b[39m     \u001b[33m\"\u001b[39m\u001b[33mThe Fed raising rates again? This can\u001b[39m\u001b[33m'\u001b[39m\u001b[33mt be good for growth...\u001b[39m\u001b[33m\"\u001b[39m,\n\u001b[32m   (...)\u001b[39m\u001b[32m     21\u001b[39m     \u001b[33m\"\u001b[39m\u001b[33mThat earnings call from Amazon was a mess. Stock tanked immediately.\u001b[39m\u001b[33m\"\u001b[39m\n\u001b[32m     22\u001b[39m ]\n\u001b[32m---> \u001b[39m\u001b[32m24\u001b[39m res = \u001b[43msentiment_analysis\u001b[49m\u001b[43m(\u001b[49m\u001b[43mtoken_hf\u001b[49m\u001b[43m=\u001b[49m\u001b[43mTOKEN_HF\u001b[49m\u001b[43m,\u001b[49m\u001b[43m \u001b[49m\u001b[43mmodel_to_use\u001b[49m\u001b[43m=\u001b[49m\u001b[43mMODEL_NAME\u001b[49m\u001b[43m,\u001b[49m\u001b[43m \u001b[49m\u001b[43mdata\u001b[49m\u001b[43m=\u001b[49m\u001b[43mtweets\u001b[49m\u001b[43m)\u001b[49m\n",
      "\u001b[36mFile \u001b[39m\u001b[32m~/tfm/financial-nlp/src/pipeline_scripts/nlp_model_helper.py:28\u001b[39m, in \u001b[36msentiment_analysis\u001b[39m\u001b[34m(token_hf, model_to_use, data)\u001b[39m\n\u001b[32m     25\u001b[39m login(token=token_hf)\n\u001b[32m     27\u001b[39m tokenizer = AutoTokenizer.from_pretrained(model_to_use)\n\u001b[32m---> \u001b[39m\u001b[32m28\u001b[39m model     = \u001b[43mAutoModelForSequenceClassification\u001b[49m\u001b[43m.\u001b[49m\u001b[43mfrom_pretrained\u001b[49m\u001b[43m(\u001b[49m\u001b[43mmodel_to_use\u001b[49m\u001b[43m)\u001b[49m\n\u001b[32m     30\u001b[39m cfg = AutoConfig.from_pretrained(model_to_use)\n\u001b[32m     31\u001b[39m cfg.id2label   = {\u001b[32m0\u001b[39m: \u001b[33m\"\u001b[39m\u001b[33mnegative\u001b[39m\u001b[33m\"\u001b[39m, \u001b[32m1\u001b[39m: \u001b[33m\"\u001b[39m\u001b[33mpositive\u001b[39m\u001b[33m\"\u001b[39m, \u001b[32m2\u001b[39m: \u001b[33m\"\u001b[39m\u001b[33mneutral\u001b[39m\u001b[33m\"\u001b[39m}\n",
      "\u001b[36mFile \u001b[39m\u001b[32m~/miniconda3/envs/financial_nlp_env/lib/python3.11/site-packages/transformers/models/auto/auto_factory.py:600\u001b[39m, in \u001b[36m_BaseAutoModelClass.from_pretrained\u001b[39m\u001b[34m(cls, pretrained_model_name_or_path, *model_args, **kwargs)\u001b[39m\n\u001b[32m    598\u001b[39m     \u001b[38;5;28;01mif\u001b[39;00m model_class.config_class == config.sub_configs.get(\u001b[33m\"\u001b[39m\u001b[33mtext_config\u001b[39m\u001b[33m\"\u001b[39m, \u001b[38;5;28;01mNone\u001b[39;00m):\n\u001b[32m    599\u001b[39m         config = config.get_text_config()\n\u001b[32m--> \u001b[39m\u001b[32m600\u001b[39m     \u001b[38;5;28;01mreturn\u001b[39;00m \u001b[43mmodel_class\u001b[49m\u001b[43m.\u001b[49m\u001b[43mfrom_pretrained\u001b[49m\u001b[43m(\u001b[49m\n\u001b[32m    601\u001b[39m \u001b[43m        \u001b[49m\u001b[43mpretrained_model_name_or_path\u001b[49m\u001b[43m,\u001b[49m\u001b[43m \u001b[49m\u001b[43m*\u001b[49m\u001b[43mmodel_args\u001b[49m\u001b[43m,\u001b[49m\u001b[43m \u001b[49m\u001b[43mconfig\u001b[49m\u001b[43m=\u001b[49m\u001b[43mconfig\u001b[49m\u001b[43m,\u001b[49m\u001b[43m \u001b[49m\u001b[43m*\u001b[49m\u001b[43m*\u001b[49m\u001b[43mhub_kwargs\u001b[49m\u001b[43m,\u001b[49m\u001b[43m \u001b[49m\u001b[43m*\u001b[49m\u001b[43m*\u001b[49m\u001b[43mkwargs\u001b[49m\n\u001b[32m    602\u001b[39m \u001b[43m    \u001b[49m\u001b[43m)\u001b[49m\n\u001b[32m    603\u001b[39m \u001b[38;5;28;01mraise\u001b[39;00m \u001b[38;5;167;01mValueError\u001b[39;00m(\n\u001b[32m    604\u001b[39m     \u001b[33mf\u001b[39m\u001b[33m\"\u001b[39m\u001b[33mUnrecognized configuration class \u001b[39m\u001b[38;5;132;01m{\u001b[39;00mconfig.\u001b[34m__class__\u001b[39m\u001b[38;5;132;01m}\u001b[39;00m\u001b[33m for this kind of AutoModel: \u001b[39m\u001b[38;5;132;01m{\u001b[39;00m\u001b[38;5;28mcls\u001b[39m.\u001b[34m__name__\u001b[39m\u001b[38;5;132;01m}\u001b[39;00m\u001b[33m.\u001b[39m\u001b[38;5;130;01m\\n\u001b[39;00m\u001b[33m\"\u001b[39m\n\u001b[32m    605\u001b[39m     \u001b[33mf\u001b[39m\u001b[33m\"\u001b[39m\u001b[33mModel type should be one of \u001b[39m\u001b[38;5;132;01m{\u001b[39;00m\u001b[33m'\u001b[39m\u001b[33m, \u001b[39m\u001b[33m'\u001b[39m.join(c.\u001b[34m__name__\u001b[39m\u001b[38;5;250m \u001b[39m\u001b[38;5;28;01mfor\u001b[39;00m\u001b[38;5;250m \u001b[39mc\u001b[38;5;250m \u001b[39m\u001b[38;5;129;01min\u001b[39;00m\u001b[38;5;250m \u001b[39m\u001b[38;5;28mcls\u001b[39m._model_mapping.keys())\u001b[38;5;132;01m}\u001b[39;00m\u001b[33m.\u001b[39m\u001b[33m\"\u001b[39m\n\u001b[32m    606\u001b[39m )\n",
      "\u001b[36mFile \u001b[39m\u001b[32m~/miniconda3/envs/financial_nlp_env/lib/python3.11/site-packages/transformers/modeling_utils.py:311\u001b[39m, in \u001b[36mrestore_default_torch_dtype.<locals>._wrapper\u001b[39m\u001b[34m(*args, **kwargs)\u001b[39m\n\u001b[32m    309\u001b[39m old_dtype = torch.get_default_dtype()\n\u001b[32m    310\u001b[39m \u001b[38;5;28;01mtry\u001b[39;00m:\n\u001b[32m--> \u001b[39m\u001b[32m311\u001b[39m     \u001b[38;5;28;01mreturn\u001b[39;00m \u001b[43mfunc\u001b[49m\u001b[43m(\u001b[49m\u001b[43m*\u001b[49m\u001b[43margs\u001b[49m\u001b[43m,\u001b[49m\u001b[43m \u001b[49m\u001b[43m*\u001b[49m\u001b[43m*\u001b[49m\u001b[43mkwargs\u001b[49m\u001b[43m)\u001b[49m\n\u001b[32m    312\u001b[39m \u001b[38;5;28;01mfinally\u001b[39;00m:\n\u001b[32m    313\u001b[39m     torch.set_default_dtype(old_dtype)\n",
      "\u001b[36mFile \u001b[39m\u001b[32m~/miniconda3/envs/financial_nlp_env/lib/python3.11/site-packages/transformers/modeling_utils.py:4680\u001b[39m, in \u001b[36mPreTrainedModel.from_pretrained\u001b[39m\u001b[34m(cls, pretrained_model_name_or_path, config, cache_dir, ignore_mismatched_sizes, force_download, local_files_only, token, revision, use_safetensors, weights_only, *model_args, **kwargs)\u001b[39m\n\u001b[32m   4670\u001b[39m \u001b[38;5;28;01mif\u001b[39;00m (\n\u001b[32m   4671\u001b[39m     gguf_file\n\u001b[32m   4672\u001b[39m     \u001b[38;5;129;01mand\u001b[39;00m device_map \u001b[38;5;129;01mis\u001b[39;00m \u001b[38;5;129;01mnot\u001b[39;00m \u001b[38;5;28;01mNone\u001b[39;00m\n\u001b[32m   4673\u001b[39m     \u001b[38;5;129;01mand\u001b[39;00m ((\u001b[38;5;28misinstance\u001b[39m(device_map, \u001b[38;5;28mdict\u001b[39m) \u001b[38;5;129;01mand\u001b[39;00m \u001b[33m\"\u001b[39m\u001b[33mdisk\u001b[39m\u001b[33m\"\u001b[39m \u001b[38;5;129;01min\u001b[39;00m device_map.values()) \u001b[38;5;129;01mor\u001b[39;00m \u001b[33m\"\u001b[39m\u001b[33mdisk\u001b[39m\u001b[33m\"\u001b[39m \u001b[38;5;129;01min\u001b[39;00m device_map)\n\u001b[32m   4674\u001b[39m ):\n\u001b[32m   4675\u001b[39m     \u001b[38;5;28;01mraise\u001b[39;00m \u001b[38;5;167;01mRuntimeError\u001b[39;00m(\n\u001b[32m   4676\u001b[39m         \u001b[33m\"\u001b[39m\u001b[33mOne or more modules is configured to be mapped to disk. Disk offload is not supported for models \u001b[39m\u001b[33m\"\u001b[39m\n\u001b[32m   4677\u001b[39m         \u001b[33m\"\u001b[39m\u001b[33mloaded from GGUF files.\u001b[39m\u001b[33m\"\u001b[39m\n\u001b[32m   4678\u001b[39m     )\n\u001b[32m-> \u001b[39m\u001b[32m4680\u001b[39m checkpoint_files, sharded_metadata = \u001b[43m_get_resolved_checkpoint_files\u001b[49m\u001b[43m(\u001b[49m\n\u001b[32m   4681\u001b[39m \u001b[43m    \u001b[49m\u001b[43mpretrained_model_name_or_path\u001b[49m\u001b[43m=\u001b[49m\u001b[43mpretrained_model_name_or_path\u001b[49m\u001b[43m,\u001b[49m\n\u001b[32m   4682\u001b[39m \u001b[43m    \u001b[49m\u001b[43msubfolder\u001b[49m\u001b[43m=\u001b[49m\u001b[43msubfolder\u001b[49m\u001b[43m,\u001b[49m\n\u001b[32m   4683\u001b[39m \u001b[43m    \u001b[49m\u001b[43mvariant\u001b[49m\u001b[43m=\u001b[49m\u001b[43mvariant\u001b[49m\u001b[43m,\u001b[49m\n\u001b[32m   4684\u001b[39m \u001b[43m    \u001b[49m\u001b[43mgguf_file\u001b[49m\u001b[43m=\u001b[49m\u001b[43mgguf_file\u001b[49m\u001b[43m,\u001b[49m\n\u001b[32m   4685\u001b[39m \u001b[43m    \u001b[49m\u001b[43mfrom_tf\u001b[49m\u001b[43m=\u001b[49m\u001b[43mfrom_tf\u001b[49m\u001b[43m,\u001b[49m\n\u001b[32m   4686\u001b[39m \u001b[43m    \u001b[49m\u001b[43mfrom_flax\u001b[49m\u001b[43m=\u001b[49m\u001b[43mfrom_flax\u001b[49m\u001b[43m,\u001b[49m\n\u001b[32m   4687\u001b[39m \u001b[43m    \u001b[49m\u001b[43muse_safetensors\u001b[49m\u001b[43m=\u001b[49m\u001b[43muse_safetensors\u001b[49m\u001b[43m,\u001b[49m\n\u001b[32m   4688\u001b[39m \u001b[43m    \u001b[49m\u001b[43mcache_dir\u001b[49m\u001b[43m=\u001b[49m\u001b[43mcache_dir\u001b[49m\u001b[43m,\u001b[49m\n\u001b[32m   4689\u001b[39m \u001b[43m    \u001b[49m\u001b[43mforce_download\u001b[49m\u001b[43m=\u001b[49m\u001b[43mforce_download\u001b[49m\u001b[43m,\u001b[49m\n\u001b[32m   4690\u001b[39m \u001b[43m    \u001b[49m\u001b[43mproxies\u001b[49m\u001b[43m=\u001b[49m\u001b[43mproxies\u001b[49m\u001b[43m,\u001b[49m\n\u001b[32m   4691\u001b[39m \u001b[43m    \u001b[49m\u001b[43mlocal_files_only\u001b[49m\u001b[43m=\u001b[49m\u001b[43mlocal_files_only\u001b[49m\u001b[43m,\u001b[49m\n\u001b[32m   4692\u001b[39m \u001b[43m    \u001b[49m\u001b[43mtoken\u001b[49m\u001b[43m=\u001b[49m\u001b[43mtoken\u001b[49m\u001b[43m,\u001b[49m\n\u001b[32m   4693\u001b[39m \u001b[43m    \u001b[49m\u001b[43muser_agent\u001b[49m\u001b[43m=\u001b[49m\u001b[43muser_agent\u001b[49m\u001b[43m,\u001b[49m\n\u001b[32m   4694\u001b[39m \u001b[43m    \u001b[49m\u001b[43mrevision\u001b[49m\u001b[43m=\u001b[49m\u001b[43mrevision\u001b[49m\u001b[43m,\u001b[49m\n\u001b[32m   4695\u001b[39m \u001b[43m    \u001b[49m\u001b[43mcommit_hash\u001b[49m\u001b[43m=\u001b[49m\u001b[43mcommit_hash\u001b[49m\u001b[43m,\u001b[49m\n\u001b[32m   4696\u001b[39m \u001b[43m    \u001b[49m\u001b[43mis_remote_code\u001b[49m\u001b[43m=\u001b[49m\u001b[38;5;28;43mcls\u001b[39;49m\u001b[43m.\u001b[49m\u001b[43m_auto_class\u001b[49m\u001b[43m \u001b[49m\u001b[38;5;129;43;01mis\u001b[39;49;00m\u001b[43m \u001b[49m\u001b[38;5;129;43;01mnot\u001b[39;49;00m\u001b[43m \u001b[49m\u001b[38;5;28;43;01mNone\u001b[39;49;00m\u001b[43m,\u001b[49m\n\u001b[32m   4697\u001b[39m \u001b[43m    \u001b[49m\u001b[43mtransformers_explicit_filename\u001b[49m\u001b[43m=\u001b[49m\u001b[43mtransformers_explicit_filename\u001b[49m\u001b[43m,\u001b[49m\n\u001b[32m   4698\u001b[39m \u001b[43m\u001b[49m\u001b[43m)\u001b[49m\n\u001b[32m   4700\u001b[39m is_sharded = sharded_metadata \u001b[38;5;129;01mis\u001b[39;00m \u001b[38;5;129;01mnot\u001b[39;00m \u001b[38;5;28;01mNone\u001b[39;00m\n\u001b[32m   4701\u001b[39m is_quantized = hf_quantizer \u001b[38;5;129;01mis\u001b[39;00m \u001b[38;5;129;01mnot\u001b[39;00m \u001b[38;5;28;01mNone\u001b[39;00m\n",
      "\u001b[36mFile \u001b[39m\u001b[32m~/miniconda3/envs/financial_nlp_env/lib/python3.11/site-packages/transformers/modeling_utils.py:1089\u001b[39m, in \u001b[36m_get_resolved_checkpoint_files\u001b[39m\u001b[34m(pretrained_model_name_or_path, subfolder, variant, gguf_file, from_tf, from_flax, use_safetensors, cache_dir, force_download, proxies, local_files_only, token, user_agent, revision, commit_hash, is_remote_code, transformers_explicit_filename)\u001b[39m\n\u001b[32m   1084\u001b[39m         \u001b[38;5;28;01mraise\u001b[39;00m \u001b[38;5;167;01mOSError\u001b[39;00m(\n\u001b[32m   1085\u001b[39m             \u001b[33mf\u001b[39m\u001b[33m\"\u001b[39m\u001b[33mError no file named \u001b[39m\u001b[38;5;132;01m{\u001b[39;00m_add_variant(SAFE_WEIGHTS_NAME,\u001b[38;5;250m \u001b[39mvariant)\u001b[38;5;132;01m}\u001b[39;00m\u001b[33m found in directory\u001b[39m\u001b[33m\"\u001b[39m\n\u001b[32m   1086\u001b[39m             \u001b[33mf\u001b[39m\u001b[33m\"\u001b[39m\u001b[33m \u001b[39m\u001b[38;5;132;01m{\u001b[39;00mpretrained_model_name_or_path\u001b[38;5;132;01m}\u001b[39;00m\u001b[33m.\u001b[39m\u001b[33m\"\u001b[39m\n\u001b[32m   1087\u001b[39m         )\n\u001b[32m   1088\u001b[39m     \u001b[38;5;28;01melse\u001b[39;00m:\n\u001b[32m-> \u001b[39m\u001b[32m1089\u001b[39m         \u001b[38;5;28;01mraise\u001b[39;00m \u001b[38;5;167;01mOSError\u001b[39;00m(\n\u001b[32m   1090\u001b[39m             \u001b[33mf\u001b[39m\u001b[33m\"\u001b[39m\u001b[33mError no file named \u001b[39m\u001b[38;5;132;01m{\u001b[39;00m_add_variant(WEIGHTS_NAME,\u001b[38;5;250m \u001b[39mvariant)\u001b[38;5;132;01m}\u001b[39;00m\u001b[33m, \u001b[39m\u001b[38;5;132;01m{\u001b[39;00m_add_variant(SAFE_WEIGHTS_NAME,\u001b[38;5;250m \u001b[39mvariant)\u001b[38;5;132;01m}\u001b[39;00m\u001b[33m,\u001b[39m\u001b[33m\"\u001b[39m\n\u001b[32m   1091\u001b[39m             \u001b[33mf\u001b[39m\u001b[33m\"\u001b[39m\u001b[33m \u001b[39m\u001b[38;5;132;01m{\u001b[39;00mTF2_WEIGHTS_NAME\u001b[38;5;132;01m}\u001b[39;00m\u001b[33m, \u001b[39m\u001b[38;5;132;01m{\u001b[39;00mTF_WEIGHTS_NAME\u001b[38;5;250m \u001b[39m+\u001b[38;5;250m \u001b[39m\u001b[33m'\u001b[39m\u001b[33m.index\u001b[39m\u001b[33m'\u001b[39m\u001b[38;5;132;01m}\u001b[39;00m\u001b[33m or \u001b[39m\u001b[38;5;132;01m{\u001b[39;00mFLAX_WEIGHTS_NAME\u001b[38;5;132;01m}\u001b[39;00m\u001b[33m found in directory\u001b[39m\u001b[33m\"\u001b[39m\n\u001b[32m   1092\u001b[39m             \u001b[33mf\u001b[39m\u001b[33m\"\u001b[39m\u001b[33m \u001b[39m\u001b[38;5;132;01m{\u001b[39;00mpretrained_model_name_or_path\u001b[38;5;132;01m}\u001b[39;00m\u001b[33m.\u001b[39m\u001b[33m\"\u001b[39m\n\u001b[32m   1093\u001b[39m         )\n\u001b[32m   1094\u001b[39m \u001b[38;5;28;01melif\u001b[39;00m os.path.isfile(os.path.join(subfolder, pretrained_model_name_or_path)):\n\u001b[32m   1095\u001b[39m     archive_file = pretrained_model_name_or_path\n",
      "\u001b[31mOSError\u001b[39m: Error no file named pytorch_model.bin, model.safetensors, tf_model.h5, model.ckpt.index or flax_model.msgpack found in directory ./nlp_models/best_fintwitbert."
     ]
    }
   ],
   "source": [
    "tweets = [\n",
    "    \"Apple's earnings report just beat all expectations! 🚀 #stocks\",\n",
    "    \"The Fed raising rates again? This can't be good for growth...\",\n",
    "    \"Crypto market is showing signs of recovery after months of decline.\",\n",
    "    \"Bought Tesla at $620 last month. Today it's $790. Love this game!\",\n",
    "    \"My portfolio is bleeding. Every red day makes me question my life choices.\",\n",
    "    \"Netflix subscribers dropped for the first time in years. Not looking good.\",\n",
    "    \"Finally hit my savings goal for the year! Budgeting pays off.\",\n",
    "    \"The housing market is cooling down faster than expected. Is a crash coming?\",\n",
    "    \"Inflation numbers are slightly lower than last month. Some relief at least.\",\n",
    "    \"Just lost 15% of my investments this quarter. Brutal.\",\n",
    "    \"Why is everyone bullish on tech again? Didn't we learn anything in 2022?\",\n",
    "    \"Dividend from JPMorgan just landed. Love passive income!\",\n",
    "    \"Gold is up as markets grow uncertain. Old school hedge still works.\",\n",
    "    \"Missed the Nvidia rally. My FOMO is real right now.\",\n",
    "    \"Oil prices dipped again today. Could mean lower gas prices soon.\",\n",
    "    \"Got approved for my first mortgage. Excited but nervous!\",\n",
    "    \"Layoffs coming again in the fintech space. What a tough year.\",\n",
    "    \"Finally paid off all my student loans! Debt-free at last.\",\n",
    "    \"Not sure what to make of this market. Holding cash for now.\",\n",
    "    \"That earnings call from Amazon was a mess. Stock tanked immediately.\"\n",
    "]\n",
    "\n",
    "res = sentiment_analysis(token_hf=TOKEN_HF, model_to_use=MODEL_NAME, data=tweets)"
   ]
  },
  {
   "cell_type": "code",
   "execution_count": 8,
   "id": "a11c83db",
   "metadata": {},
   "outputs": [],
   "source": [
    "sentiments = [\n",
    "    \"positive\",\n",
    "    \"negative\",\n",
    "    \"neutral\",\n",
    "    \"positive\",\n",
    "    \"negative\",\n",
    "    \"negative\",\n",
    "    \"positive\",\n",
    "    \"negative\",\n",
    "    \"neutral\",\n",
    "    \"negative\",\n",
    "    \"neutral\",\n",
    "    \"positive\",\n",
    "    \"positive\",\n",
    "    \"negative\",\n",
    "    \"positive\",\n",
    "    \"positive\",\n",
    "    \"negative\",\n",
    "    \"positive\",\n",
    "    \"neutral\",\n",
    "    \"negative\"\n",
    "]\n"
   ]
  },
  {
   "cell_type": "code",
   "execution_count": 10,
   "id": "0011dd91",
   "metadata": {},
   "outputs": [
    {
     "data": {
      "application/vnd.microsoft.datawrangler.viewer.v0+json": {
       "columns": [
        {
         "name": "index",
         "rawType": "int64",
         "type": "integer"
        },
        {
         "name": "label",
         "rawType": "object",
         "type": "string"
        },
        {
         "name": "score",
         "rawType": "float64",
         "type": "float"
        }
       ],
       "ref": "b4301b50-5a49-4736-853d-2ad9ba7d93f7",
       "rows": [
        [
         "0",
         "positive",
         "0.99801105260849"
        ],
        [
         "1",
         "neutral",
         "0.9954636693000793"
        ],
        [
         "2",
         "negative",
         "0.9065023064613342"
        ],
        [
         "3",
         "positive",
         "0.8162099719047546"
        ],
        [
         "4",
         "neutral",
         "0.9999508857727051"
        ],
        [
         "5",
         "neutral",
         "0.9990932941436768"
        ],
        [
         "6",
         "positive",
         "0.8999621868133545"
        ],
        [
         "7",
         "neutral",
         "0.9997292160987854"
        ],
        [
         "8",
         "neutral",
         "0.5392594337463379"
        ],
        [
         "9",
         "neutral",
         "0.9999562501907349"
        ],
        [
         "10",
         "neutral",
         "0.9954935312271118"
        ],
        [
         "11",
         "positive",
         "0.655045211315155"
        ],
        [
         "12",
         "positive",
         "0.7460848093032837"
        ],
        [
         "13",
         "neutral",
         "0.9990032315254211"
        ],
        [
         "14",
         "neutral",
         "0.9912652373313904"
        ],
        [
         "15",
         "neutral",
         "0.6963220238685608"
        ],
        [
         "16",
         "neutral",
         "0.99959796667099"
        ],
        [
         "17",
         "neutral",
         "0.6339290142059326"
        ],
        [
         "18",
         "neutral",
         "0.9869938492774963"
        ],
        [
         "19",
         "neutral",
         "0.9998118281364441"
        ]
       ],
       "shape": {
        "columns": 2,
        "rows": 20
       }
      },
      "text/html": [
       "<div>\n",
       "<style scoped>\n",
       "    .dataframe tbody tr th:only-of-type {\n",
       "        vertical-align: middle;\n",
       "    }\n",
       "\n",
       "    .dataframe tbody tr th {\n",
       "        vertical-align: top;\n",
       "    }\n",
       "\n",
       "    .dataframe thead th {\n",
       "        text-align: right;\n",
       "    }\n",
       "</style>\n",
       "<table border=\"1\" class=\"dataframe\">\n",
       "  <thead>\n",
       "    <tr style=\"text-align: right;\">\n",
       "      <th></th>\n",
       "      <th>label</th>\n",
       "      <th>score</th>\n",
       "    </tr>\n",
       "  </thead>\n",
       "  <tbody>\n",
       "    <tr>\n",
       "      <th>0</th>\n",
       "      <td>positive</td>\n",
       "      <td>0.998011</td>\n",
       "    </tr>\n",
       "    <tr>\n",
       "      <th>1</th>\n",
       "      <td>neutral</td>\n",
       "      <td>0.995464</td>\n",
       "    </tr>\n",
       "    <tr>\n",
       "      <th>2</th>\n",
       "      <td>negative</td>\n",
       "      <td>0.906502</td>\n",
       "    </tr>\n",
       "    <tr>\n",
       "      <th>3</th>\n",
       "      <td>positive</td>\n",
       "      <td>0.816210</td>\n",
       "    </tr>\n",
       "    <tr>\n",
       "      <th>4</th>\n",
       "      <td>neutral</td>\n",
       "      <td>0.999951</td>\n",
       "    </tr>\n",
       "    <tr>\n",
       "      <th>5</th>\n",
       "      <td>neutral</td>\n",
       "      <td>0.999093</td>\n",
       "    </tr>\n",
       "    <tr>\n",
       "      <th>6</th>\n",
       "      <td>positive</td>\n",
       "      <td>0.899962</td>\n",
       "    </tr>\n",
       "    <tr>\n",
       "      <th>7</th>\n",
       "      <td>neutral</td>\n",
       "      <td>0.999729</td>\n",
       "    </tr>\n",
       "    <tr>\n",
       "      <th>8</th>\n",
       "      <td>neutral</td>\n",
       "      <td>0.539259</td>\n",
       "    </tr>\n",
       "    <tr>\n",
       "      <th>9</th>\n",
       "      <td>neutral</td>\n",
       "      <td>0.999956</td>\n",
       "    </tr>\n",
       "    <tr>\n",
       "      <th>10</th>\n",
       "      <td>neutral</td>\n",
       "      <td>0.995494</td>\n",
       "    </tr>\n",
       "    <tr>\n",
       "      <th>11</th>\n",
       "      <td>positive</td>\n",
       "      <td>0.655045</td>\n",
       "    </tr>\n",
       "    <tr>\n",
       "      <th>12</th>\n",
       "      <td>positive</td>\n",
       "      <td>0.746085</td>\n",
       "    </tr>\n",
       "    <tr>\n",
       "      <th>13</th>\n",
       "      <td>neutral</td>\n",
       "      <td>0.999003</td>\n",
       "    </tr>\n",
       "    <tr>\n",
       "      <th>14</th>\n",
       "      <td>neutral</td>\n",
       "      <td>0.991265</td>\n",
       "    </tr>\n",
       "    <tr>\n",
       "      <th>15</th>\n",
       "      <td>neutral</td>\n",
       "      <td>0.696322</td>\n",
       "    </tr>\n",
       "    <tr>\n",
       "      <th>16</th>\n",
       "      <td>neutral</td>\n",
       "      <td>0.999598</td>\n",
       "    </tr>\n",
       "    <tr>\n",
       "      <th>17</th>\n",
       "      <td>neutral</td>\n",
       "      <td>0.633929</td>\n",
       "    </tr>\n",
       "    <tr>\n",
       "      <th>18</th>\n",
       "      <td>neutral</td>\n",
       "      <td>0.986994</td>\n",
       "    </tr>\n",
       "    <tr>\n",
       "      <th>19</th>\n",
       "      <td>neutral</td>\n",
       "      <td>0.999812</td>\n",
       "    </tr>\n",
       "  </tbody>\n",
       "</table>\n",
       "</div>"
      ],
      "text/plain": [
       "       label     score\n",
       "0   positive  0.998011\n",
       "1    neutral  0.995464\n",
       "2   negative  0.906502\n",
       "3   positive  0.816210\n",
       "4    neutral  0.999951\n",
       "5    neutral  0.999093\n",
       "6   positive  0.899962\n",
       "7    neutral  0.999729\n",
       "8    neutral  0.539259\n",
       "9    neutral  0.999956\n",
       "10   neutral  0.995494\n",
       "11  positive  0.655045\n",
       "12  positive  0.746085\n",
       "13   neutral  0.999003\n",
       "14   neutral  0.991265\n",
       "15   neutral  0.696322\n",
       "16   neutral  0.999598\n",
       "17   neutral  0.633929\n",
       "18   neutral  0.986994\n",
       "19   neutral  0.999812"
      ]
     },
     "execution_count": 10,
     "metadata": {},
     "output_type": "execute_result"
    }
   ],
   "source": [
    "res"
   ]
  },
  {
   "cell_type": "code",
   "execution_count": 11,
   "id": "a3c9a5f4",
   "metadata": {},
   "outputs": [
    {
     "data": {
      "text/plain": [
       "8"
      ]
     },
     "execution_count": 11,
     "metadata": {},
     "output_type": "execute_result"
    }
   ],
   "source": [
    "sum(res['label']== sentiments)"
   ]
  },
  {
   "cell_type": "code",
   "execution_count": 5,
   "id": "8426e0ef",
   "metadata": {},
   "outputs": [
    {
     "name": "stdout",
     "output_type": "stream",
     "text": [
      "Account ID:  PA3IVEW0F5GS \n",
      "Portfolio value:  100000 $\n"
     ]
    }
   ],
   "source": [
    "from alpaca.trading.client import TradingClient\n",
    "\n",
    "trading_client = TradingClient(\n",
    "    api_key=os.getenv(\"TRADER_API_KEY\"),\n",
    "    secret_key=os.getenv(\"TRADER_API_SECRET\"))\n",
    "\n",
    "print(\"Account ID: \", trading_client.get_account().account_number, \"\\nPortfolio value: \",trading_client.get_account().portfolio_value,\"$\") \n"
   ]
  },
  {
   "cell_type": "code",
   "execution_count": null,
   "id": "26e12eba",
   "metadata": {},
   "outputs": [],
   "source": [
    "from alpaca.data import StockHistoricalDataClient,StockTradesRequest,CryptoTradesRequest,CryptoHistoricalDataClient,Stock\n",
    "from datetime import datetime\n",
    "\n",
    "data = StockHistoricalDataClient(\n",
    "    api_key=os.getenv(\"TRADER_API_KEY\"),\n",
    "    secret_key=os.getenv(\"TRADER_API_SECRET\"))\n",
    "req = StockTradesRequest(\n",
    "    symbol_or_symbols=\"AAPL\",\n",
    "    start=datetime(2025, 1, 1),\n",
    "    end=datetime(2025, 2, 1),\n",
    "    limit=100)"
   ]
  },
  {
   "cell_type": "code",
   "execution_count": 45,
   "id": "ba7f0cec",
   "metadata": {},
   "outputs": [],
   "source": [
    "crypto = CryptoTradesRequest(\n",
    "    symbol_or_symbols=\"BTC\",\n",
    "    start=datetime(2025, 1, 1),\n",
    "    end=datetime(2025, 2, 1),\n",
    "    limit=100)\n",
    "data = CryptoHistoricalDataClient(\n",
    "    api_key=os.getenv(\"TRADER_API_KEY\"),\n",
    "    secret_key=os.getenv(\"TRADER_API_SECRET\"))"
   ]
  },
  {
   "cell_type": "code",
   "execution_count": 65,
   "id": "299bd6b4",
   "metadata": {},
   "outputs": [
    {
     "data": {
      "text/plain": [
       "[{   'body': None,\n",
       "     'id': UUID('6759bf20-f98f-4e32-b8c7-ff82f7db445c'),\n",
       "     'status': 200}]"
      ]
     },
     "execution_count": 65,
     "metadata": {},
     "output_type": "execute_result"
    }
   ],
   "source": [
    "from uuid import UUID\n",
    "trading_client.cancel_order_by_id(UUID('7d51aee0-a901-49c8-9dd9-3e8c81651315'))\n",
    "trading_client.cancel_orders()"
   ]
  },
  {
   "cell_type": "code",
   "execution_count": 64,
   "id": "40326f85",
   "metadata": {},
   "outputs": [
    {
     "name": "stdout",
     "output_type": "stream",
     "text": [
      "id=UUID('6759bf20-f98f-4e32-b8c7-ff82f7db445c') client_order_id='8f6bb46b-cc96-4077-ab79-6f735cccf850' created_at=datetime.datetime(2025, 7, 27, 20, 52, 35, 385020, tzinfo=TzInfo(UTC)) updated_at=datetime.datetime(2025, 7, 27, 20, 52, 35, 385698, tzinfo=TzInfo(UTC)) submitted_at=datetime.datetime(2025, 7, 27, 20, 52, 35, 385020, tzinfo=TzInfo(UTC)) filled_at=None expired_at=None expires_at=datetime.datetime(2025, 7, 28, 20, 0, tzinfo=TzInfo(UTC)) canceled_at=None failed_at=None replaced_at=None replaced_by=None replaces=None asset_id=UUID('b0b6dd9d-8b9b-48a9-ba46-b9d54906e415') symbol='AAPL' asset_class=<AssetClass.US_EQUITY: 'us_equity'> notional=None qty='1' filled_qty='0' filled_avg_price=None order_class=<OrderClass.SIMPLE: 'simple'> order_type=<OrderType.MARKET: 'market'> type=<OrderType.MARKET: 'market'> side=<OrderSide.BUY: 'buy'> time_in_force=<TimeInForce.DAY: 'day'> limit_price=None stop_price=None status=<OrderStatus.ACCEPTED: 'accepted'> extended_hours=False legs=None trail_percent=None trail_price=None hwm=None position_intent=<PositionIntent.BUY_TO_OPEN: 'buy_to_open'> ratio_qty=None\n"
     ]
    }
   ],
   "source": [
    "from alpaca.trading.requests import MarketOrderRequest\n",
    "from alpaca.trading.enums import OrderSide, TimeInForce\n",
    "\n",
    "order = MarketOrderRequest(\n",
    "    symbol=\"AAPL\",\n",
    "    qty=1,\n",
    "    side=OrderSide.BUY,\n",
    "    time_in_force=TimeInForce.DAY\n",
    ")\n",
    "\n",
    "order_confirmation = trading_client.submit_order(order)\n",
    "print(order_confirmation)"
   ]
  }
 ],
 "metadata": {
  "kernelspec": {
   "display_name": "financial_nlp_env",
   "language": "python",
   "name": "python3"
  },
  "language_info": {
   "codemirror_mode": {
    "name": "ipython",
    "version": 3
   },
   "file_extension": ".py",
   "mimetype": "text/x-python",
   "name": "python",
   "nbconvert_exporter": "python",
   "pygments_lexer": "ipython3",
   "version": "3.11.13"
  }
 },
 "nbformat": 4,
 "nbformat_minor": 5
}
