{
 "cells": [
  {
   "cell_type": "code",
   "execution_count": 4,
   "id": "ca6832c4",
   "metadata": {},
   "outputs": [
    {
     "name": "stdout",
     "output_type": "stream",
     "text": [
      "Collecting alpaca-py\n",
      "  Downloading alpaca_py-0.40.1-py3-none-any.whl.metadata (13 kB)\n",
      "Collecting msgpack<2.0.0,>=1.0.3 (from alpaca-py)\n",
      "  Downloading msgpack-1.1.1-cp311-cp311-manylinux_2_17_x86_64.manylinux2014_x86_64.whl.metadata (8.4 kB)\n",
      "Collecting pandas>=1.5.3 (from alpaca-py)\n",
      "  Downloading pandas-2.3.0-cp311-cp311-manylinux_2_17_x86_64.manylinux2014_x86_64.whl.metadata (91 kB)\n",
      "\u001b[2K     \u001b[90m━━━━━━━━━━━━━━━━━━━━━━━━━━━━━━━━━━━━━━━━\u001b[0m \u001b[32m91.2/91.2 kB\u001b[0m \u001b[31m3.2 MB/s\u001b[0m eta \u001b[36m0:00:00\u001b[0m\n",
      "\u001b[?25hCollecting pydantic<3.0.0,>=2.0.3 (from alpaca-py)\n",
      "  Downloading pydantic-2.11.7-py3-none-any.whl.metadata (67 kB)\n",
      "\u001b[2K     \u001b[90m━━━━━━━━━━━━━━━━━━━━━━━━━━━━━━━━━━━━━━━━\u001b[0m \u001b[32m68.0/68.0 kB\u001b[0m \u001b[31m8.8 MB/s\u001b[0m eta \u001b[36m0:00:00\u001b[0m\n",
      "\u001b[?25hCollecting requests<3.0.0,>=2.30.0 (from alpaca-py)\n",
      "  Downloading requests-2.32.4-py3-none-any.whl.metadata (4.9 kB)\n",
      "Collecting sseclient-py<2.0.0,>=1.7.2 (from alpaca-py)\n",
      "  Downloading sseclient_py-1.8.0-py2.py3-none-any.whl.metadata (2.0 kB)\n",
      "Collecting websockets>=10.4 (from alpaca-py)\n",
      "  Downloading websockets-15.0.1-cp311-cp311-manylinux_2_5_x86_64.manylinux1_x86_64.manylinux_2_17_x86_64.manylinux2014_x86_64.whl.metadata (6.8 kB)\n",
      "Collecting numpy>=1.23.2 (from pandas>=1.5.3->alpaca-py)\n",
      "  Downloading numpy-2.3.1-cp311-cp311-manylinux_2_28_x86_64.whl.metadata (62 kB)\n",
      "\u001b[2K     \u001b[90m━━━━━━━━━━━━━━━━━━━━━━━━━━━━━━━━━━━━━━━━\u001b[0m \u001b[32m62.1/62.1 kB\u001b[0m \u001b[31m8.4 MB/s\u001b[0m eta \u001b[36m0:00:00\u001b[0m\n",
      "\u001b[?25hRequirement already satisfied: python-dateutil>=2.8.2 in /home/u1017597/miniconda3/envs/financial_nlp_env/lib/python3.11/site-packages (from pandas>=1.5.3->alpaca-py) (2.9.0.post0)\n",
      "Collecting pytz>=2020.1 (from pandas>=1.5.3->alpaca-py)\n",
      "  Downloading pytz-2025.2-py2.py3-none-any.whl.metadata (22 kB)\n",
      "Collecting tzdata>=2022.7 (from pandas>=1.5.3->alpaca-py)\n",
      "  Downloading tzdata-2025.2-py2.py3-none-any.whl.metadata (1.4 kB)\n",
      "Collecting annotated-types>=0.6.0 (from pydantic<3.0.0,>=2.0.3->alpaca-py)\n",
      "  Using cached annotated_types-0.7.0-py3-none-any.whl.metadata (15 kB)\n",
      "Collecting pydantic-core==2.33.2 (from pydantic<3.0.0,>=2.0.3->alpaca-py)\n",
      "  Downloading pydantic_core-2.33.2-cp311-cp311-manylinux_2_17_x86_64.manylinux2014_x86_64.whl.metadata (6.8 kB)\n",
      "Requirement already satisfied: typing-extensions>=4.12.2 in /home/u1017597/miniconda3/envs/financial_nlp_env/lib/python3.11/site-packages (from pydantic<3.0.0,>=2.0.3->alpaca-py) (4.14.0)\n",
      "Collecting typing-inspection>=0.4.0 (from pydantic<3.0.0,>=2.0.3->alpaca-py)\n",
      "  Downloading typing_inspection-0.4.1-py3-none-any.whl.metadata (2.6 kB)\n",
      "Collecting charset_normalizer<4,>=2 (from requests<3.0.0,>=2.30.0->alpaca-py)\n",
      "  Downloading charset_normalizer-3.4.2-cp311-cp311-manylinux_2_17_x86_64.manylinux2014_x86_64.whl.metadata (35 kB)\n",
      "Collecting idna<4,>=2.5 (from requests<3.0.0,>=2.30.0->alpaca-py)\n",
      "  Using cached idna-3.10-py3-none-any.whl.metadata (10 kB)\n",
      "Collecting urllib3<3,>=1.21.1 (from requests<3.0.0,>=2.30.0->alpaca-py)\n",
      "  Downloading urllib3-2.5.0-py3-none-any.whl.metadata (6.5 kB)\n",
      "Collecting certifi>=2017.4.17 (from requests<3.0.0,>=2.30.0->alpaca-py)\n",
      "  Downloading certifi-2025.6.15-py3-none-any.whl.metadata (2.4 kB)\n",
      "Requirement already satisfied: six>=1.5 in /home/u1017597/miniconda3/envs/financial_nlp_env/lib/python3.11/site-packages (from python-dateutil>=2.8.2->pandas>=1.5.3->alpaca-py) (1.17.0)\n",
      "Downloading alpaca_py-0.40.1-py3-none-any.whl (121 kB)\n",
      "\u001b[2K   \u001b[90m━━━━━━━━━━━━━━━━━━━━━━━━━━━━━━━━━━━━━━━━\u001b[0m \u001b[32m121.7/121.7 kB\u001b[0m \u001b[31m1.6 MB/s\u001b[0m eta \u001b[36m0:00:00\u001b[0ma \u001b[36m0:00:01\u001b[0mm\n",
      "\u001b[?25hDownloading msgpack-1.1.1-cp311-cp311-manylinux_2_17_x86_64.manylinux2014_x86_64.whl (429 kB)\n",
      "\u001b[2K   \u001b[90m━━━━━━━━━━━━━━━━━━━━━━━━━━━━━━━━━━━━━━━━\u001b[0m \u001b[32m430.0/430.0 kB\u001b[0m \u001b[31m8.5 MB/s\u001b[0m eta \u001b[36m0:00:00\u001b[0mta \u001b[36m0:00:01\u001b[0m\n",
      "\u001b[?25hDownloading pandas-2.3.0-cp311-cp311-manylinux_2_17_x86_64.manylinux2014_x86_64.whl (12.4 MB)\n",
      "\u001b[2K   \u001b[90m━━━━━━━━━━━━━━━━━━━━━━━━━━━━━━━━━━━━━━━━\u001b[0m \u001b[32m12.4/12.4 MB\u001b[0m \u001b[31m1.4 MB/s\u001b[0m eta \u001b[36m0:00:00\u001b[0m00:01\u001b[0m00:01\u001b[0mm\n",
      "\u001b[?25hDownloading pydantic-2.11.7-py3-none-any.whl (444 kB)\n",
      "\u001b[2K   \u001b[90m━━━━━━━━━━━━━━━━━━━━━━━━━━━━━━━━━━━━━━━━\u001b[0m \u001b[32m444.8/444.8 kB\u001b[0m \u001b[31m3.6 MB/s\u001b[0m eta \u001b[36m0:00:00\u001b[0ma \u001b[36m0:00:01\u001b[0mm\n",
      "\u001b[?25hDownloading pydantic_core-2.33.2-cp311-cp311-manylinux_2_17_x86_64.manylinux2014_x86_64.whl (2.0 MB)\n",
      "\u001b[2K   \u001b[90m━━━━━━━━━━━━━━━━━━━━━━━━━━━━━━━━━━━━━━━━\u001b[0m \u001b[32m2.0/2.0 MB\u001b[0m \u001b[31m11.8 MB/s\u001b[0m eta \u001b[36m0:00:00\u001b[0ma \u001b[36m0:00:01\u001b[0m\n",
      "\u001b[?25hDownloading requests-2.32.4-py3-none-any.whl (64 kB)\n",
      "\u001b[2K   \u001b[90m━━━━━━━━━━━━━━━━━━━━━━━━━━━━━━━━━━━━━━━━\u001b[0m \u001b[32m64.8/64.8 kB\u001b[0m \u001b[31m13.9 MB/s\u001b[0m eta \u001b[36m0:00:00\u001b[0m\n",
      "\u001b[?25hDownloading sseclient_py-1.8.0-py2.py3-none-any.whl (8.8 kB)\n",
      "Downloading websockets-15.0.1-cp311-cp311-manylinux_2_5_x86_64.manylinux1_x86_64.manylinux_2_17_x86_64.manylinux2014_x86_64.whl (182 kB)\n",
      "\u001b[2K   \u001b[90m━━━━━━━━━━━━━━━━━━━━━━━━━━━━━━━━━━━━━━━━\u001b[0m \u001b[32m182.3/182.3 kB\u001b[0m \u001b[31m1.9 MB/s\u001b[0m eta \u001b[36m0:00:00\u001b[0ma \u001b[36m0:00:01\u001b[0mm\n",
      "\u001b[?25hUsing cached annotated_types-0.7.0-py3-none-any.whl (13 kB)\n",
      "Downloading certifi-2025.6.15-py3-none-any.whl (157 kB)\n",
      "\u001b[2K   \u001b[90m━━━━━━━━━━━━━━━━━━━━━━━━━━━━━━━━━━━━━━━━\u001b[0m \u001b[32m157.7/157.7 kB\u001b[0m \u001b[31m32.6 MB/s\u001b[0m eta \u001b[36m0:00:00\u001b[0m\n",
      "\u001b[?25hDownloading charset_normalizer-3.4.2-cp311-cp311-manylinux_2_17_x86_64.manylinux2014_x86_64.whl (147 kB)\n",
      "\u001b[2K   \u001b[90m━━━━━━━━━━━━━━━━━━━━━━━━━━━━━━━━━━━━━━━━\u001b[0m \u001b[32m147.3/147.3 kB\u001b[0m \u001b[31m29.5 MB/s\u001b[0m eta \u001b[36m0:00:00\u001b[0m\n",
      "\u001b[?25hUsing cached idna-3.10-py3-none-any.whl (70 kB)\n",
      "Downloading numpy-2.3.1-cp311-cp311-manylinux_2_28_x86_64.whl (16.9 MB)\n",
      "\u001b[2K   \u001b[90m━━━━━━━━━━━━━━━━━━━━━━━━━━━━━━━━━━━━━━━━\u001b[0m \u001b[32m16.9/16.9 MB\u001b[0m \u001b[31m1.8 MB/s\u001b[0m eta \u001b[36m0:00:00\u001b[0m00:01\u001b[0mm00:01\u001b[0m\n",
      "\u001b[?25hDownloading pytz-2025.2-py2.py3-none-any.whl (509 kB)\n",
      "\u001b[2K   \u001b[90m━━━━━━━━━━━━━━━━━━━━━━━━━━━━━━━━━━━━━━━━\u001b[0m \u001b[32m509.2/509.2 kB\u001b[0m \u001b[31m4.4 MB/s\u001b[0m eta \u001b[36m0:00:00\u001b[0ma \u001b[36m0:00:01\u001b[0mm\n",
      "\u001b[?25hDownloading typing_inspection-0.4.1-py3-none-any.whl (14 kB)\n",
      "Downloading tzdata-2025.2-py2.py3-none-any.whl (347 kB)\n",
      "\u001b[2K   \u001b[90m━━━━━━━━━━━━━━━━━━━━━━━━━━━━━━━━━━━━━━━━\u001b[0m \u001b[32m347.8/347.8 kB\u001b[0m \u001b[31m3.6 MB/s\u001b[0m eta \u001b[36m0:00:00\u001b[0ma \u001b[36m0:00:01\u001b[0mm\n",
      "\u001b[?25hDownloading urllib3-2.5.0-py3-none-any.whl (129 kB)\n",
      "\u001b[2K   \u001b[90m━━━━━━━━━━━━━━━━━━━━━━━━━━━━━━━━━━━━━━━━\u001b[0m \u001b[32m129.8/129.8 kB\u001b[0m \u001b[31m1.8 MB/s\u001b[0m eta \u001b[36m0:00:00\u001b[0mta \u001b[36m0:00:01\u001b[0m\n",
      "\u001b[?25hInstalling collected packages: sseclient-py, pytz, websockets, urllib3, tzdata, typing-inspection, pydantic-core, numpy, msgpack, idna, charset_normalizer, certifi, annotated-types, requests, pydantic, pandas, alpaca-py\n",
      "Successfully installed alpaca-py-0.40.1 annotated-types-0.7.0 certifi-2025.6.15 charset_normalizer-3.4.2 idna-3.10 msgpack-1.1.1 numpy-2.3.1 pandas-2.3.0 pydantic-2.11.7 pydantic-core-2.33.2 pytz-2025.2 requests-2.32.4 sseclient-py-1.8.0 typing-inspection-0.4.1 tzdata-2025.2 urllib3-2.5.0 websockets-15.0.1\n"
     ]
    }
   ],
   "source": [
    "!pip install alpaca-py --trusted-host pypi.org --trusted-host files.pythonhosted.org\n",
    " "
   ]
  },
  {
   "cell_type": "code",
   "execution_count": 19,
   "id": "abfdf0ad",
   "metadata": {},
   "outputs": [
    {
     "name": "stdout",
     "output_type": "stream",
     "text": [
      "Collecting Path\n",
      "  Downloading path-17.1.0-py3-none-any.whl.metadata (6.4 kB)\n",
      "Downloading path-17.1.0-py3-none-any.whl (23 kB)\n",
      "Installing collected packages: Path\n",
      "Successfully installed Path-17.1.0\n"
     ]
    }
   ],
   "source": [
    "!pip install Path  --trusted-host pypi.org --trusted-host files.pythonhosted.org"
   ]
  },
  {
   "cell_type": "code",
   "execution_count": 1,
   "id": "cdb5916f",
   "metadata": {},
   "outputs": [],
   "source": [
    "import pandas as pd\n",
    "import os\n",
    "from pathlib import Path\n",
    "import sys\n",
    "\n",
    "import matplotlibas pl"
   ]
  },
  {
   "cell_type": "code",
   "execution_count": 2,
   "id": "d9773fa8",
   "metadata": {},
   "outputs": [],
   "source": [
    "PATH_PROJECT_ROOT_DIR = Path(os.getcwd()).resolve().parent\n",
    "PATH_SRC_DIR = os.path.join(PATH_PROJECT_ROOT_DIR, \"src/\")\n",
    "\n",
    "sys.path.append(str(PATH_SRC_DIR))\n"
   ]
  },
  {
   "cell_type": "code",
   "execution_count": 5,
   "id": "397baee4",
   "metadata": {},
   "outputs": [
    {
     "data": {
      "application/vnd.microsoft.datawrangler.viewer.v0+json": {
       "columns": [
        {
         "name": "index",
         "rawType": "int64",
         "type": "integer"
        },
        {
         "name": "tweet",
         "rawType": "object",
         "type": "string"
        },
        {
         "name": "sentiment",
         "rawType": "int64",
         "type": "integer"
        },
        {
         "name": "url",
         "rawType": "object",
         "type": "string"
        }
       ],
       "ref": "2d350f3a-efbc-4c73-baa6-c2e50d3f2525",
       "rows": [
        [
         "0",
         "$BYND - JPMorgan reels in expectations on Beyond Meat https://t.co/bd0xbFGjkT",
         "2",
         "https://huggingface.co/datasets/zeroshot/twitter-financial-news-sentiment"
        ],
        [
         "1",
         "$CCL $RCL - Nomura points to bookings weakness at Carnival and Royal Caribbean https://t.co/yGjpT2ReD3",
         "2",
         "https://huggingface.co/datasets/zeroshot/twitter-financial-news-sentiment"
        ],
        [
         "2",
         "$CX - Cemex cut at Credit Suisse, J.P. Morgan on weak building outlook https://t.co/KN1g4AWFIb",
         "2",
         "https://huggingface.co/datasets/zeroshot/twitter-financial-news-sentiment"
        ],
        [
         "3",
         "$ESS: BTIG Research cuts to Neutral https://t.co/MCyfTsXc2N",
         "2",
         "https://huggingface.co/datasets/zeroshot/twitter-financial-news-sentiment"
        ],
        [
         "4",
         "$FNKO - Funko slides after Piper Jaffray PT cut https://t.co/z37IJmCQzB",
         "2",
         "https://huggingface.co/datasets/zeroshot/twitter-financial-news-sentiment"
        ],
        [
         "5",
         "$FTI - TechnipFMC downgraded at Berenberg but called Top Pick at Deutsche Bank https://t.co/XKcPDilIuU",
         "2",
         "https://huggingface.co/datasets/zeroshot/twitter-financial-news-sentiment"
        ],
        [
         "6",
         "$GM - GM loses a bull https://t.co/tdUfG5HbXy",
         "2",
         "https://huggingface.co/datasets/zeroshot/twitter-financial-news-sentiment"
        ],
        [
         "7",
         "$GM: Deutsche Bank cuts to Hold https://t.co/7Fv1ZiFZBS",
         "2",
         "https://huggingface.co/datasets/zeroshot/twitter-financial-news-sentiment"
        ],
        [
         "8",
         "$GTT: Cowen cuts to Market Perform",
         "2",
         "https://huggingface.co/datasets/zeroshot/twitter-financial-news-sentiment"
        ],
        [
         "9",
         "$HNHAF $HNHPD $AAPL - Trendforce cuts iPhone estimate after Foxconn delay https://t.co/rlnEwzlzzS",
         "2",
         "https://huggingface.co/datasets/zeroshot/twitter-financial-news-sentiment"
        ],
        [
         "10",
         "$HOG - Moody's warns on Harley-Davidson https://t.co/LurHBEadeU",
         "2",
         "https://huggingface.co/datasets/zeroshot/twitter-financial-news-sentiment"
        ],
        [
         "11",
         "$HXL - Citing aero ties, Wells slashes PT on Hexcel https://t.co/wU5P2i8WBU",
         "2",
         "https://huggingface.co/datasets/zeroshot/twitter-financial-news-sentiment"
        ],
        [
         "12",
         "$I - Intelsat cut to Market Perform at Raymond James https://t.co/YsvsMSQRIb",
         "2",
         "https://huggingface.co/datasets/zeroshot/twitter-financial-news-sentiment"
        ],
        [
         "13",
         "$KRG: Compass Point cuts to Sell https://t.co/MCyfTsXc2N",
         "2",
         "https://huggingface.co/datasets/zeroshot/twitter-financial-news-sentiment"
        ],
        [
         "14",
         "$LK - Muddy Waters goes short Luckin Coffee https://t.co/8yrbwAjLKG",
         "2",
         "https://huggingface.co/datasets/zeroshot/twitter-financial-news-sentiment"
        ],
        [
         "15",
         "$MANT - ManTech downgraded ahead of difficult comps https://t.co/mJ1eSrsFXJ",
         "2",
         "https://huggingface.co/datasets/zeroshot/twitter-financial-news-sentiment"
        ],
        [
         "16",
         "$MDCO: Oppenheimer cuts to Perform",
         "2",
         "https://huggingface.co/datasets/zeroshot/twitter-financial-news-sentiment"
        ],
        [
         "17",
         "$MPLX $MPC - MPLX cut at Credit Suisse on potential dilution from Marathon strategic review https://t.co/0BFQy4ZU6W",
         "2",
         "https://huggingface.co/datasets/zeroshot/twitter-financial-news-sentiment"
        ],
        [
         "18",
         "$MSGN - Imperial downgrades MSG Networks amid sports-free airwaves https://t.co/Ul2S6XNXw8",
         "2",
         "https://huggingface.co/datasets/zeroshot/twitter-financial-news-sentiment"
        ],
        [
         "19",
         "$MTLS - Piper hits the Materialise sidelines https://t.co/qlFxZuhkrt",
         "2",
         "https://huggingface.co/datasets/zeroshot/twitter-financial-news-sentiment"
        ],
        [
         "20",
         "$NCBS: Hovde Group cuts to Market Perform",
         "2",
         "https://huggingface.co/datasets/zeroshot/twitter-financial-news-sentiment"
        ],
        [
         "21",
         "$NFLX - New Netflix bear steps out https://t.co/PdPkgLk0FQ",
         "2",
         "https://huggingface.co/datasets/zeroshot/twitter-financial-news-sentiment"
        ],
        [
         "22",
         "$SHOP - Shopify loses a bull https://t.co/eoq7Lchtk4",
         "2",
         "https://huggingface.co/datasets/zeroshot/twitter-financial-news-sentiment"
        ],
        [
         "23",
         "$STAY - Nomura Instinet loses confidence in Extended Stay America https://t.co/WrQXTC38nB",
         "2",
         "https://huggingface.co/datasets/zeroshot/twitter-financial-news-sentiment"
        ],
        [
         "24",
         "$TWLO - Twilio gets Street-low target on virus risk https://t.co/Ky3d8DxnjX",
         "2",
         "https://huggingface.co/datasets/zeroshot/twitter-financial-news-sentiment"
        ],
        [
         "25",
         "$VCLT $SPLB $IGLB - Guggenheim's Minerd sees more gloom ahead in stocks https://t.co/NKYQgy2o3J",
         "2",
         "https://huggingface.co/datasets/zeroshot/twitter-financial-news-sentiment"
        ],
        [
         "26",
         "$VIAC $VIACA $FOX - MoffettNathanson expects NFL TV costs to skyrocket https://t.co/APfxEqSSRF",
         "2",
         "https://huggingface.co/datasets/zeroshot/twitter-financial-news-sentiment"
        ],
        [
         "27",
         "$VIAC: Barrington Research cuts to Mkt Perform https://t.co/7Fv1ZiFZBS",
         "2",
         "https://huggingface.co/datasets/zeroshot/twitter-financial-news-sentiment"
        ],
        [
         "28",
         "$XLNX - Mizuho cuts XLNX target on near-term headwinds https://t.co/hsWCvJb1Ct",
         "2",
         "https://huggingface.co/datasets/zeroshot/twitter-financial-news-sentiment"
        ],
        [
         "29",
         "2U downgraded to sector weight from overweight at KeyBanc Capital",
         "2",
         "https://huggingface.co/datasets/zeroshot/twitter-financial-news-sentiment"
        ],
        [
         "30",
         "Alphabet and Facebook price targets cut at Barclays on weaker ad outlook https://t.co/PlbSaE1Nc2",
         "2",
         "https://huggingface.co/datasets/zeroshot/twitter-financial-news-sentiment"
        ],
        [
         "31",
         "AMC Networks price target cut to $35 from $39 at Imperial Capital",
         "2",
         "https://huggingface.co/datasets/zeroshot/twitter-financial-news-sentiment"
        ],
        [
         "32",
         "American Software downgraded to neutral from buy at B. Riley FBR",
         "2",
         "https://huggingface.co/datasets/zeroshot/twitter-financial-news-sentiment"
        ],
        [
         "33",
         "Analysts question Silicon Motion's margin outlook",
         "2",
         "https://huggingface.co/datasets/zeroshot/twitter-financial-news-sentiment"
        ],
        [
         "34",
         "Anchiano Therapeutics downgraded to peer perform from outperform at Oppenheimer",
         "2",
         "https://huggingface.co/datasets/zeroshot/twitter-financial-news-sentiment"
        ],
        [
         "35",
         "Arch Coal stock price target cut to $97 from $100 at B. Riley FBR",
         "2",
         "https://huggingface.co/datasets/zeroshot/twitter-financial-news-sentiment"
        ],
        [
         "36",
         "AT&T downgraded by MoffettNathanson to sell on concern wireless can't carry the whole company",
         "2",
         "https://huggingface.co/datasets/zeroshot/twitter-financial-news-sentiment"
        ],
        [
         "37",
         "AT&T shares sink after MoffettNathanson downgrade",
         "2",
         "https://huggingface.co/datasets/zeroshot/twitter-financial-news-sentiment"
        ],
        [
         "38",
         "AT&T stock falls after MoffettNathanson downgrades, saying dividend looks less compelling",
         "2",
         "https://huggingface.co/datasets/zeroshot/twitter-financial-news-sentiment"
        ],
        [
         "39",
         "Aurora Cannabis stock price target cut to C$1.00 from C$1.75 at Stifel Nicolaus",
         "2",
         "https://huggingface.co/datasets/zeroshot/twitter-financial-news-sentiment"
        ],
        [
         "40",
         "Autodesk downgraded to underweight from neutral at JPMorgan",
         "2",
         "https://huggingface.co/datasets/zeroshot/twitter-financial-news-sentiment"
        ],
        [
         "41",
         "BAML warns of profit pressure for Hormel",
         "2",
         "https://huggingface.co/datasets/zeroshot/twitter-financial-news-sentiment"
        ],
        [
         "42",
         "Barclays cools on Molson Coors",
         "2",
         "https://huggingface.co/datasets/zeroshot/twitter-financial-news-sentiment"
        ],
        [
         "43",
         "Becton Dickinson downgraded to outperform from strong buy at Raymond James",
         "2",
         "https://huggingface.co/datasets/zeroshot/twitter-financial-news-sentiment"
        ],
        [
         "44",
         "Becton Dickinson downgraded to sector weight from overweight at KeyBanc Capital",
         "2",
         "https://huggingface.co/datasets/zeroshot/twitter-financial-news-sentiment"
        ],
        [
         "45",
         "Berry Petroleum downgraded to market perform from outperform at BMO Capital",
         "2",
         "https://huggingface.co/datasets/zeroshot/twitter-financial-news-sentiment"
        ],
        [
         "46",
         "Berry Petroleum downgraded to underweight from sector weight at KeyBanc Capital",
         "2",
         "https://huggingface.co/datasets/zeroshot/twitter-financial-news-sentiment"
        ],
        [
         "47",
         "Bluebird bio downgraded to in line from outperform at Evercore ISI",
         "2",
         "https://huggingface.co/datasets/zeroshot/twitter-financial-news-sentiment"
        ],
        [
         "48",
         "Bluebird bio stock price target cut to $86 from $172 at Evercore ISI",
         "2",
         "https://huggingface.co/datasets/zeroshot/twitter-financial-news-sentiment"
        ],
        [
         "49",
         "Canada Goose downgraded to buy from strong buy at CFRA",
         "2",
         "https://huggingface.co/datasets/zeroshot/twitter-financial-news-sentiment"
        ]
       ],
       "shape": {
        "columns": 3,
        "rows": 38091
       }
      },
      "text/html": [
       "<div>\n",
       "<style scoped>\n",
       "    .dataframe tbody tr th:only-of-type {\n",
       "        vertical-align: middle;\n",
       "    }\n",
       "\n",
       "    .dataframe tbody tr th {\n",
       "        vertical-align: top;\n",
       "    }\n",
       "\n",
       "    .dataframe thead th {\n",
       "        text-align: right;\n",
       "    }\n",
       "</style>\n",
       "<table border=\"1\" class=\"dataframe\">\n",
       "  <thead>\n",
       "    <tr style=\"text-align: right;\">\n",
       "      <th></th>\n",
       "      <th>tweet</th>\n",
       "      <th>sentiment</th>\n",
       "      <th>url</th>\n",
       "    </tr>\n",
       "  </thead>\n",
       "  <tbody>\n",
       "    <tr>\n",
       "      <th>0</th>\n",
       "      <td>$BYND - JPMorgan reels in expectations on Beyo...</td>\n",
       "      <td>2</td>\n",
       "      <td>https://huggingface.co/datasets/zeroshot/twitt...</td>\n",
       "    </tr>\n",
       "    <tr>\n",
       "      <th>1</th>\n",
       "      <td>$CCL $RCL - Nomura points to bookings weakness...</td>\n",
       "      <td>2</td>\n",
       "      <td>https://huggingface.co/datasets/zeroshot/twitt...</td>\n",
       "    </tr>\n",
       "    <tr>\n",
       "      <th>2</th>\n",
       "      <td>$CX - Cemex cut at Credit Suisse, J.P. Morgan ...</td>\n",
       "      <td>2</td>\n",
       "      <td>https://huggingface.co/datasets/zeroshot/twitt...</td>\n",
       "    </tr>\n",
       "    <tr>\n",
       "      <th>3</th>\n",
       "      <td>$ESS: BTIG Research cuts to Neutral https://t....</td>\n",
       "      <td>2</td>\n",
       "      <td>https://huggingface.co/datasets/zeroshot/twitt...</td>\n",
       "    </tr>\n",
       "    <tr>\n",
       "      <th>4</th>\n",
       "      <td>$FNKO - Funko slides after Piper Jaffray PT cu...</td>\n",
       "      <td>2</td>\n",
       "      <td>https://huggingface.co/datasets/zeroshot/twitt...</td>\n",
       "    </tr>\n",
       "    <tr>\n",
       "      <th>...</th>\n",
       "      <td>...</td>\n",
       "      <td>...</td>\n",
       "      <td>...</td>\n",
       "    </tr>\n",
       "    <tr>\n",
       "      <th>38086</th>\n",
       "      <td>Facebook $FB received a Buy rating from Wells ...</td>\n",
       "      <td>1</td>\n",
       "      <td>https://huggingface.co/datasets/ChanceFocus/fi...</td>\n",
       "    </tr>\n",
       "    <tr>\n",
       "      <th>38087</th>\n",
       "      <td>$TSLA Wish had my puts back but see if we can ...</td>\n",
       "      <td>2</td>\n",
       "      <td>https://huggingface.co/datasets/ChanceFocus/fi...</td>\n",
       "    </tr>\n",
       "    <tr>\n",
       "      <th>38088</th>\n",
       "      <td>Citrix Systems Inc $CTXS Position Increased by...</td>\n",
       "      <td>1</td>\n",
       "      <td>https://huggingface.co/datasets/ChanceFocus/fi...</td>\n",
       "    </tr>\n",
       "    <tr>\n",
       "      <th>38089</th>\n",
       "      <td>Notable gainers among liquid option names this...</td>\n",
       "      <td>1</td>\n",
       "      <td>https://huggingface.co/datasets/ChanceFocus/fi...</td>\n",
       "    </tr>\n",
       "    <tr>\n",
       "      <th>38090</th>\n",
       "      <td>Is #Facebook's user engagement falling? https:...</td>\n",
       "      <td>2</td>\n",
       "      <td>https://huggingface.co/datasets/ChanceFocus/fi...</td>\n",
       "    </tr>\n",
       "  </tbody>\n",
       "</table>\n",
       "<p>38091 rows × 3 columns</p>\n",
       "</div>"
      ],
      "text/plain": [
       "                                                   tweet  sentiment  \\\n",
       "0      $BYND - JPMorgan reels in expectations on Beyo...          2   \n",
       "1      $CCL $RCL - Nomura points to bookings weakness...          2   \n",
       "2      $CX - Cemex cut at Credit Suisse, J.P. Morgan ...          2   \n",
       "3      $ESS: BTIG Research cuts to Neutral https://t....          2   \n",
       "4      $FNKO - Funko slides after Piper Jaffray PT cu...          2   \n",
       "...                                                  ...        ...   \n",
       "38086  Facebook $FB received a Buy rating from Wells ...          1   \n",
       "38087  $TSLA Wish had my puts back but see if we can ...          2   \n",
       "38088  Citrix Systems Inc $CTXS Position Increased by...          1   \n",
       "38089  Notable gainers among liquid option names this...          1   \n",
       "38090  Is #Facebook's user engagement falling? https:...          2   \n",
       "\n",
       "                                                     url  \n",
       "0      https://huggingface.co/datasets/zeroshot/twitt...  \n",
       "1      https://huggingface.co/datasets/zeroshot/twitt...  \n",
       "2      https://huggingface.co/datasets/zeroshot/twitt...  \n",
       "3      https://huggingface.co/datasets/zeroshot/twitt...  \n",
       "4      https://huggingface.co/datasets/zeroshot/twitt...  \n",
       "...                                                  ...  \n",
       "38086  https://huggingface.co/datasets/ChanceFocus/fi...  \n",
       "38087  https://huggingface.co/datasets/ChanceFocus/fi...  \n",
       "38088  https://huggingface.co/datasets/ChanceFocus/fi...  \n",
       "38089  https://huggingface.co/datasets/ChanceFocus/fi...  \n",
       "38090  https://huggingface.co/datasets/ChanceFocus/fi...  \n",
       "\n",
       "[38091 rows x 3 columns]"
      ]
     },
     "execution_count": 5,
     "metadata": {},
     "output_type": "execute_result"
    }
   ],
   "source": [
    "input_tw"
   ]
  },
  {
   "cell_type": "code",
   "execution_count": 4,
   "id": "1a895a8a",
   "metadata": {},
   "outputs": [
    {
     "name": "stdout",
     "output_type": "stream",
     "text": [
      "Shape: (38091, 3)\n",
      "\n",
      "Columns: ['tweet', 'sentiment', 'url']\n",
      "\n",
      "Missing values:\n",
      " tweet        0\n",
      "sentiment    0\n",
      "url          0\n",
      "dtype: int64\n",
      "\n",
      "Sentiment value counts:\n",
      " sentiment\n",
      "1    17368\n",
      "0    12181\n",
      "2     8542\n",
      "Name: count, dtype: int64\n",
      "\n",
      "Tweet length stats:\n",
      " count    38091.000000\n",
      "mean        95.323751\n",
      "std         72.693280\n",
      "min          1.000000\n",
      "25%         55.000000\n",
      "50%         84.000000\n",
      "75%        131.000000\n",
      "max       4229.000000\n",
      "Name: tweet, dtype: float64\n"
     ]
    }
   ],
   "source": [
    "input_tw = pd.read_parquet(\"data/train-00000-of-00001.parquet\")\n",
    "\n",
    "# Quick EDA\n",
    "print(\"Shape:\", input_tw.shape)\n",
    "print(\"\\nColumns:\", input_tw.columns.tolist())\n",
    "print(\"\\nMissing values:\\n\", input_tw.isnull().sum())\n",
    "print(\"\\nSentiment value counts:\\n\", input_tw['sentiment'].value_counts())\n",
    "print(\"\\nTweet length stats:\\n\", input_tw['tweet'].apply(len).describe())"
   ]
  },
  {
   "cell_type": "code",
   "execution_count": 6,
   "id": "f1fd303b",
   "metadata": {},
   "outputs": [
    {
     "data": {
      "application/vnd.microsoft.datawrangler.viewer.v0+json": {
       "columns": [
        {
         "name": "index",
         "rawType": "int64",
         "type": "integer"
        },
        {
         "name": "tweet",
         "rawType": "object",
         "type": "string"
        },
        {
         "name": "sentiment",
         "rawType": "int64",
         "type": "integer"
        },
        {
         "name": "url",
         "rawType": "object",
         "type": "string"
        }
       ],
       "ref": "175ad81e-1261-4663-b662-8be674f5e504",
       "rows": [
        [
         "0",
         "$BYND - JPMorgan reels in expectations on Beyond Meat https://t.co/bd0xbFGjkT",
         "2",
         "https://huggingface.co/datasets/zeroshot/twitter-financial-news-sentiment"
        ],
        [
         "1",
         "$CCL $RCL - Nomura points to bookings weakness at Carnival and Royal Caribbean https://t.co/yGjpT2ReD3",
         "2",
         "https://huggingface.co/datasets/zeroshot/twitter-financial-news-sentiment"
        ],
        [
         "2",
         "$CX - Cemex cut at Credit Suisse, J.P. Morgan on weak building outlook https://t.co/KN1g4AWFIb",
         "2",
         "https://huggingface.co/datasets/zeroshot/twitter-financial-news-sentiment"
        ],
        [
         "3",
         "$ESS: BTIG Research cuts to Neutral https://t.co/MCyfTsXc2N",
         "2",
         "https://huggingface.co/datasets/zeroshot/twitter-financial-news-sentiment"
        ],
        [
         "4",
         "$FNKO - Funko slides after Piper Jaffray PT cut https://t.co/z37IJmCQzB",
         "2",
         "https://huggingface.co/datasets/zeroshot/twitter-financial-news-sentiment"
        ]
       ],
       "shape": {
        "columns": 3,
        "rows": 5
       }
      },
      "text/html": [
       "<div>\n",
       "<style scoped>\n",
       "    .dataframe tbody tr th:only-of-type {\n",
       "        vertical-align: middle;\n",
       "    }\n",
       "\n",
       "    .dataframe tbody tr th {\n",
       "        vertical-align: top;\n",
       "    }\n",
       "\n",
       "    .dataframe thead th {\n",
       "        text-align: right;\n",
       "    }\n",
       "</style>\n",
       "<table border=\"1\" class=\"dataframe\">\n",
       "  <thead>\n",
       "    <tr style=\"text-align: right;\">\n",
       "      <th></th>\n",
       "      <th>tweet</th>\n",
       "      <th>sentiment</th>\n",
       "      <th>url</th>\n",
       "    </tr>\n",
       "  </thead>\n",
       "  <tbody>\n",
       "    <tr>\n",
       "      <th>0</th>\n",
       "      <td>$BYND - JPMorgan reels in expectations on Beyo...</td>\n",
       "      <td>2</td>\n",
       "      <td>https://huggingface.co/datasets/zeroshot/twitt...</td>\n",
       "    </tr>\n",
       "    <tr>\n",
       "      <th>1</th>\n",
       "      <td>$CCL $RCL - Nomura points to bookings weakness...</td>\n",
       "      <td>2</td>\n",
       "      <td>https://huggingface.co/datasets/zeroshot/twitt...</td>\n",
       "    </tr>\n",
       "    <tr>\n",
       "      <th>2</th>\n",
       "      <td>$CX - Cemex cut at Credit Suisse, J.P. Morgan ...</td>\n",
       "      <td>2</td>\n",
       "      <td>https://huggingface.co/datasets/zeroshot/twitt...</td>\n",
       "    </tr>\n",
       "    <tr>\n",
       "      <th>3</th>\n",
       "      <td>$ESS: BTIG Research cuts to Neutral https://t....</td>\n",
       "      <td>2</td>\n",
       "      <td>https://huggingface.co/datasets/zeroshot/twitt...</td>\n",
       "    </tr>\n",
       "    <tr>\n",
       "      <th>4</th>\n",
       "      <td>$FNKO - Funko slides after Piper Jaffray PT cu...</td>\n",
       "      <td>2</td>\n",
       "      <td>https://huggingface.co/datasets/zeroshot/twitt...</td>\n",
       "    </tr>\n",
       "  </tbody>\n",
       "</table>\n",
       "</div>"
      ],
      "text/plain": [
       "                                               tweet  sentiment  \\\n",
       "0  $BYND - JPMorgan reels in expectations on Beyo...          2   \n",
       "1  $CCL $RCL - Nomura points to bookings weakness...          2   \n",
       "2  $CX - Cemex cut at Credit Suisse, J.P. Morgan ...          2   \n",
       "3  $ESS: BTIG Research cuts to Neutral https://t....          2   \n",
       "4  $FNKO - Funko slides after Piper Jaffray PT cu...          2   \n",
       "\n",
       "                                                 url  \n",
       "0  https://huggingface.co/datasets/zeroshot/twitt...  \n",
       "1  https://huggingface.co/datasets/zeroshot/twitt...  \n",
       "2  https://huggingface.co/datasets/zeroshot/twitt...  \n",
       "3  https://huggingface.co/datasets/zeroshot/twitt...  \n",
       "4  https://huggingface.co/datasets/zeroshot/twitt...  "
      ]
     },
     "execution_count": 6,
     "metadata": {},
     "output_type": "execute_result"
    }
   ],
   "source": [
    "input_tw.head(5)"
   ]
  },
  {
   "cell_type": "code",
   "execution_count": null,
   "id": "2f657950",
   "metadata": {},
   "outputs": [],
   "source": [
    "text_lengths = input_tw['tweet'].str.split().str.len()\n",
    "\n",
    "# Calculate the average\n",
    "average_length = np.mean(text_lengths)\n",
    "\n",
    "# Create a figure and axis\n",
    "fig, ax = plt.subplots(figsize=(12, 6))\n",
    "\n",
    "# Using plt.hist to create a histogram with Matplotlib\n",
    "ax.hist(text_lengths, bins=20, color=\"blue\", edgecolor=\"black\", alpha=0.7)\n",
    "\n",
    "# Add average line\n",
    "ax.axvline(average_length, color='red', linestyle='dashed', linewidth=2, label=f'Average: {average_length:.2f}')\n",
    "\n",
    "ax.set_title('Histogram of Tweet Lengths')\n",
    "ax.set_xlabel('Tweet Length')\n",
    "ax.set_ylabel('Count')\n",
    "\n",
    "# Display the plot\n",
    "plt.show()"
   ]
  }
 ],
 "metadata": {
  "kernelspec": {
   "display_name": "financial_nlp_env",
   "language": "python",
   "name": "python3"
  },
  "language_info": {
   "codemirror_mode": {
    "name": "ipython",
    "version": 3
   },
   "file_extension": ".py",
   "mimetype": "text/x-python",
   "name": "python",
   "nbconvert_exporter": "python",
   "pygments_lexer": "ipython3",
   "version": "3.11.13"
  }
 },
 "nbformat": 4,
 "nbformat_minor": 5
}
